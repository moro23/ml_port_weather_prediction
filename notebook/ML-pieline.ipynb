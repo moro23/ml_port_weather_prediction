{
 "cells": [
  {
   "cell_type": "markdown",
   "metadata": {},
   "source": [
    "## Importing Libraries"
   ]
  },
  {
   "cell_type": "code",
   "execution_count": 1,
   "metadata": {},
   "outputs": [],
   "source": [
    "## core python libraries\n",
    "from math import sqrt\n",
    "import pickle\n",
    "\n",
    "## libraries for data preprocessing\n",
    "import pandas as pd\n",
    "import numpy as np\n",
    "\n",
    "## libraries for data visualization\n",
    "from matplotlib import pyplot as plt\n",
    "from matplotlib.pyplot import figure\n",
    "\n",
    "## librarires for project trancking \n",
    "import mlflow\n",
    "from azureml.core.run import Run\n",
    "from azureml.core.experiment import Experiment\n",
    "from azureml.core.workspace import Workspace \n",
    "from azureml.core.model import Model \n",
    "from azureml.core.authentication import ServicePrincipalAuthentication \n",
    "from azureml.train.automl import AutoMLImageConfig \n",
    "\n",
    "## muting errors\n",
    "import warnings \n",
    "warnings.filterwarnings('ignore')"
   ]
  },
  {
   "cell_type": "markdown",
   "metadata": {},
   "source": [
    "## Setting Up MLflow"
   ]
  },
  {
   "cell_type": "code",
   "execution_count": null,
   "metadata": {},
   "outputs": [],
   "source": [
    "## setting up a workspace\n",
    "workspace = Workspace()"
   ]
  },
  {
   "cell_type": "code",
   "execution_count": 7,
   "metadata": {},
   "outputs": [
    {
     "ename": "NameError",
     "evalue": "name 'workspace' is not defined",
     "output_type": "error",
     "traceback": [
      "\u001b[0;31m---------------------------------------------------------------------------\u001b[0m",
      "\u001b[0;31mNameError\u001b[0m                                 Traceback (most recent call last)",
      "Cell \u001b[0;32mIn[7], line 2\u001b[0m\n\u001b[1;32m      1\u001b[0m \u001b[38;5;66;03m## lets get a tracking ID for where MLflow exp and artifacts would be logged\u001b[39;00m\n\u001b[0;32m----> 2\u001b[0m uri \u001b[38;5;241m=\u001b[39m \u001b[43mworkspace\u001b[49m\u001b[38;5;241m.\u001b[39mget_mlflow_tracking_uri( )\n\u001b[1;32m      3\u001b[0m \u001b[38;5;66;03m## lets connect to the tracking ID\u001b[39;00m\n\u001b[1;32m      4\u001b[0m mlflow\u001b[38;5;241m.\u001b[39mset_tracking_uri(uri)\n",
      "\u001b[0;31mNameError\u001b[0m: name 'workspace' is not defined"
     ]
    }
   ],
   "source": [
    "## lets get a tracking ID for where MLflow exp and artifacts would be logged\n",
    "uri = workspace.get_mlflow_tracking_uri( )\n",
    "## lets connect to the tracking ID\n",
    "mlflow.set_tracking_uri(uri)"
   ]
  },
  {
   "cell_type": "code",
   "execution_count": null,
   "metadata": {},
   "outputs": [],
   "source": []
  }
 ],
 "metadata": {
  "interpreter": {
   "hash": "959b12ecb7ebf18c076d5166be666930742dfa4111a5e25fe4f7aee58d90cbc0"
  },
  "kernelspec": {
   "display_name": "Python 3.9.16 ('ml_port_weather_prediction-zxRO_yOp')",
   "language": "python",
   "name": "python3"
  },
  "language_info": {
   "codemirror_mode": {
    "name": "ipython",
    "version": 3
   },
   "file_extension": ".py",
   "mimetype": "text/x-python",
   "name": "python",
   "nbconvert_exporter": "python",
   "pygments_lexer": "ipython3",
   "version": "3.9.16"
  },
  "orig_nbformat": 4
 },
 "nbformat": 4,
 "nbformat_minor": 2
}
